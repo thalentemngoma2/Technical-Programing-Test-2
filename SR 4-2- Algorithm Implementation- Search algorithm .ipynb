{
 "cells": [
  {
   "cell_type": "markdown",
   "id": "ea212b93-f939-4ab6-b064-8dae887b029d",
   "metadata": {},
   "source": [
    "Linear Search: Linear search is a simple search algorithm that sequentially checks each element of the dataset until the target element is found or the end of the dataset is reached. \n",
    "Binary Search: Binary search is a more efficient search algorithm that requires the dataset to be sorted beforehand. It works by repeatedly dividing the search interval in half until the target element is found."
   ]
  },
  {
   "cell_type": "code",
   "execution_count": 6,
   "id": "ca91f2e6-6187-4384-972a-c0cc4f8d4d65",
   "metadata": {},
   "outputs": [
    {
     "name": "stdout",
     "output_type": "stream",
     "text": [
      "Data loaded successfully.\n",
      "          id   english_label country     admin_div  latitude  longitude  \\\n",
      "0  Q60438320  Nandi Baneswar    Q668  ['Q5001033']       NaN        NaN   \n",
      "1  Q60438328         Andulia    Q668  ['Q5001033']       NaN        NaN   \n",
      "2  Q60438334         Gafulia    Q668  ['Q5001033']       NaN        NaN   \n",
      "3  Q60438339         Belgram    Q668  ['Q5001033']       NaN        NaN   \n",
      "4  Q60438341           Togra    Q668  ['Q5001033']       NaN        NaN   \n",
      "\n",
      "                                        english_desc parent_classes  \n",
      "0  human settlement in Burwan community developme...  ['Q56436498']  \n",
      "1                                                NaN  ['Q56436498']  \n",
      "2  human settlement in Burwan community developme...  ['Q56436498']  \n",
      "3                                                NaN  ['Q56436498']  \n",
      "4  human settlement in Burwan community developme...  ['Q56436498']  \n",
      "Column Names:  Index(['id', 'english_label', 'country', 'admin_div', 'latitude', 'longitude',\n",
      "       'english_desc', 'parent_classes'],\n",
      "      dtype='object')\n",
      "Extracted data from column 'country': ['Q668' 'Q668' 'Q668' 'Q668' 'Q668' 'Q183' 'Q142' 'Q668' 'Q668' 'Q668']...\n",
      "Sorted data: ['Q100', 'Q1000', 'Q1000', 'Q1000', 'Q1000', 'Q1000', 'Q1000', 'Q1000', 'Q1000', 'Q1000']...\n",
      "Linear Search Result: -1\n",
      "Binary Search Result: -1\n"
     ]
    }
   ],
   "source": [
    "import pandas as pd\n",
    "import matplotlib.pyplot as plt\n",
    "\n",
    "# Load the dataset with the correct encoding\n",
    "file_path = \"C:/Users/thale/Desktop/TP Test 2/allbucket1.csv\"\n",
    "try:\n",
    "    data = pd.read_csv(file_path, encoding='ISO-8859-1')\n",
    "    print(\"Data loaded successfully.\")\n",
    "except UnicodeDecodeError as e:\n",
    "    print(\"Error loading data:\", e)\n",
    "    data = None\n",
    "\n",
    "# Display the first few rows of the dataframe if it is loaded successfully\n",
    "if data is not None:\n",
    "    print(data.head())\n",
    "\n",
    "    # Ensure the file was loaded properly by checking the column names\n",
    "    print(\"Column Names: \", data.columns)\n",
    "\n",
    "    # Replace 'category_column' with an actual categorical column name from your dataset\n",
    "    category_column = 'country'  # Replace this with a categorical column from your dataset\n",
    "\n",
    "    # Check if the column exists in the dataset\n",
    "    if category_column in data.columns:\n",
    "        # Extract data from the specified column\n",
    "        column_data = data[category_column].dropna().values\n",
    "        print(f\"Extracted data from column '{category_column}': {column_data[:10]}...\")\n",
    "\n",
    "        # Linear Search Function\n",
    "        def linear_search(arr, target):\n",
    "            for i in range(len(arr)):\n",
    "                if arr[i] == target:\n",
    "                    return i\n",
    "            return -1\n",
    "\n",
    "        # Binary Search Function\n",
    "        def binary_search(arr, target):\n",
    "            low = 0\n",
    "            high = len(arr) - 1\n",
    "            while low <= high:\n",
    "                mid = (low + high) // 2\n",
    "                if arr[mid] == target:\n",
    "                    return mid\n",
    "                elif arr[mid] < target:\n",
    "                    low = mid + 1\n",
    "                else:\n",
    "                    high = mid - 1\n",
    "            return -1\n",
    "\n",
    "        # Sort the data for binary search\n",
    "        sorted_column_data = sorted(column_data)\n",
    "        print(f\"Sorted data: {sorted_column_data})  # Show a preview of the sorted data\n",
    "\n",
    "        # Define the target value\n",
    "        target_value = 'USA' \n",
    "\n",
    "        # Perform searches\n",
    "        linear_result = linear_search(column_data, target_value)\n",
    "        binary_result = binary_search(sorted_column_data, target_value)\n",
    "\n",
    "        # Display results\n",
    "        print(\"Linear Search Result:\", linear_result)\n",
    "        print(\"Binary Search Result:\", binary_result)"
   ]
  },
  {
   "cell_type": "code",
   "execution_count": null,
   "id": "3638e23a-1ee4-49f3-8fd2-d903f7562df1",
   "metadata": {},
   "outputs": [],
   "source": []
  }
 ],
 "metadata": {
  "kernelspec": {
   "display_name": "Python 3 (ipykernel)",
   "language": "python",
   "name": "python3"
  },
  "language_info": {
   "codemirror_mode": {
    "name": "ipython",
    "version": 3
   },
   "file_extension": ".py",
   "mimetype": "text/x-python",
   "name": "python",
   "nbconvert_exporter": "python",
   "pygments_lexer": "ipython3",
   "version": "3.12.2"
  }
 },
 "nbformat": 4,
 "nbformat_minor": 5
}
