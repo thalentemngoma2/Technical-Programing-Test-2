{
 "cells": [
  {
   "cell_type": "code",
   "execution_count": 1,
   "id": "c85f26c3-5d52-4250-9683-f78f6335d56f",
   "metadata": {},
   "outputs": [
    {
     "name": "stdout",
     "output_type": "stream",
     "text": [
      "Dataset Size:  (980000, 8)\n",
      "Column Names:  Index(['id', 'english_label', 'country', 'admin_div', 'latitude', 'longitude',\n",
      "       'english_desc', 'parent_classes'],\n",
      "      dtype='object')\n",
      "Data Types: \n",
      " id                 object\n",
      "english_label      object\n",
      "country            object\n",
      "admin_div          object\n",
      "latitude          float64\n",
      "longitude         float64\n",
      "english_desc       object\n",
      "parent_classes     object\n",
      "dtype: object\n",
      "First few rows: \n",
      "           id   english_label country     admin_div  latitude  longitude  \\\n",
      "0  Q60438320  Nandi Baneswar    Q668  ['Q5001033']       NaN        NaN   \n",
      "1  Q60438328         Andulia    Q668  ['Q5001033']       NaN        NaN   \n",
      "2  Q60438334         Gafulia    Q668  ['Q5001033']       NaN        NaN   \n",
      "3  Q60438339         Belgram    Q668  ['Q5001033']       NaN        NaN   \n",
      "4  Q60438341           Togra    Q668  ['Q5001033']       NaN        NaN   \n",
      "\n",
      "                                        english_desc parent_classes  \n",
      "0  human settlement in Burwan community developme...  ['Q56436498']  \n",
      "1                                                NaN  ['Q56436498']  \n",
      "2  human settlement in Burwan community developme...  ['Q56436498']  \n",
      "3                                                NaN  ['Q56436498']  \n",
      "4  human settlement in Burwan community developme...  ['Q56436498']  \n",
      "Missing data: \n",
      " id                     0\n",
      "english_label     287586\n",
      "country            23435\n",
      "admin_div         130500\n",
      "latitude          264717\n",
      "longitude         264717\n",
      "english_desc      175008\n",
      "parent_classes         0\n",
      "dtype: int64\n",
      "Column 'human ' not found in the dataset.\n",
      "Column 'standardized_population' not found in the dataset.\n"
     ]
    }
   ],
   "source": [
    "import pandas as pd\n",
    "import numpy as np\n",
    "from sklearn.preprocessing import StandardScaler\n",
    "\n",
    "# Load the dataset\n",
    "filepath = \"C:/Users/thale/Desktop/TP Test 2/allbucket1.csv\"\n",
    "data = pd.read_csv(filepath, encoding='ISO-8859-1')\n",
    "\n",
    "# Understanding the dataset\n",
    "print(\"Dataset Size: \", data.shape)\n",
    "print(\"Column Names: \", data.columns)  # Print column names\n",
    "print(\"Data Types: \\n\", data.dtypes)\n",
    "print(\"First few rows: \\n\", data.head())\n",
    "\n",
    "# Identifying missing data\n",
    "missing_data = data.isnull().sum()\n",
    "print(\"Missing data: \\n\", missing_data)\n",
    "\n",
    "# Normalizing or standardizing data\n",
    "\n",
    "if 'human' in data.columns:\n",
    "    # Assuming 'human settlement in Brazil' is a column that needs to be standardized\n",
    "    population_data = data['human'].values.reshape(-1, 1)  # Reshape to 2D array for StandardScaler\n",
    "    scaler = StandardScaler()\n",
    "    standardized_population = scaler.fit_transform(population_data)\n",
    "    data['standardized_population'] = standardized_population\n",
    "else:\n",
    "    print(\"Column 'human ' not found in the dataset.\")\n",
    "\n",
    "\n",
    "if 'standardized_population' in data.columns:\n",
    "    print(\"Data type used in machine learning for 'standardized_population':\", data['standardized_population'].dtype)\n",
    "else:\n",
    "    print(\"Column 'standardized_population' not found in the dataset.\")\n",
    "\n"
   ]
  },
  {
   "cell_type": "markdown",
   "id": "508e51fd-e8f4-4008-9126-1f36bdb22a6c",
   "metadata": {},
   "source": [
    "### Data Types Used in Machine Learning\n",
    "\n",
    "In machine learning, datasets often contain various types of data, each with its own significance.\n",
    "\n",
    "1. **Categorical Data:**\n",
    "   - The column 'country' represents categorical data. Categorical data consists of discrete categories and is commonly used in classification tasks in machine learning.\n",
    "\n",
    "2. **Numerical Data:**\n",
    "   - The column 'population' contains numerical data. Numerical data represents continuous values and is essential for regression analysis, where the goal is to predict a continuous outcome.\n",
    "     \n",
    "3. **Text Data:**\n",
    "   - The column 'description'contain text data, such as descriptions of human settlements.\n",
    "\n",
    "These are just a few examples of data types commonly encountered in machine learning tasks."
   ]
  },
  {
   "cell_type": "code",
   "execution_count": null,
   "id": "73f8b0c2-e9a2-4ad6-9f7f-69f46b477e3d",
   "metadata": {},
   "outputs": [],
   "source": []
  }
 ],
 "metadata": {
  "kernelspec": {
   "display_name": "Python 3 (ipykernel)",
   "language": "python",
   "name": "python3"
  },
  "language_info": {
   "codemirror_mode": {
    "name": "ipython",
    "version": 3
   },
   "file_extension": ".py",
   "mimetype": "text/x-python",
   "name": "python",
   "nbconvert_exporter": "python",
   "pygments_lexer": "ipython3",
   "version": "3.12.2"
  }
 },
 "nbformat": 4,
 "nbformat_minor": 5
}
