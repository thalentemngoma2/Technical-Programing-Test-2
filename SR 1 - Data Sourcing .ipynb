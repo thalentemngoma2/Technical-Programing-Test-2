{
 "cells": [
  {
   "cell_type": "markdown",
   "id": "4c8e599a-851d-4109-b31a-fbb5392bf758",
   "metadata": {},
   "source": [
    "Dataset source - This data set is located in a website \"https://www.kaggle.com/datasets/gabrielkclasson/wikidata-human-settlements\" and it is named Kaggle and the dataset tittle is \"Wikidata Human Settlements\" \n",
    "\n",
    "Data Completeness:\n",
    "This dataset it allows for a broad analysis of trends and patterns related to Human settlements. The dataset covers multiple years, providing a temporal aspect to the analysis which is crucial for understanding changes over time.\n",
    "\n",
    "Relevance:\n",
    "This dataset is relevant to the theme of human settlements becouse it directly shows the proportion of the  human settlement in Burwan community development. This is a critical show a human settlements. This dataset it for Burwan community, making it possible to perform comparative analysis and identify regional pettens.\n",
    "\n",
    "\n",
    "Credibility:\n",
    "The World Bank is a reputable international organization known for its strict data collection and validation processes. Data from the World Bank is widely used in research and policy-making. The credibility of the source ensures that the data is reliable and suitable for serious analysis.\n",
    "\n",
    "Relevant Columns:\n",
    "Two columns in our analysis that are relevent:\n",
    "english_label country: This colomn identify the country in English\n",
    "admin_div : This colomn provide the ID for the division"
   ]
  },
  {
   "cell_type": "code",
   "execution_count": 7,
   "id": "e6909195-3d46-4b59-a45d-8fb485dd4386",
   "metadata": {},
   "outputs": [
    {
     "name": "stdout",
     "output_type": "stream",
     "text": [
      "            id   english_label country     admin_div  latitude  longitude  \\\n",
      "0    Q60438320  Nandi Baneswar    Q668  ['Q5001033']       NaN        NaN   \n",
      "1    Q60438328         Andulia    Q668  ['Q5001033']       NaN        NaN   \n",
      "2    Q60438334         Gafulia    Q668  ['Q5001033']       NaN        NaN   \n",
      "3    Q60438339         Belgram    Q668  ['Q5001033']       NaN        NaN   \n",
      "4    Q60438341           Togra    Q668  ['Q5001033']       NaN        NaN   \n",
      "..         ...             ...     ...           ...       ...        ...   \n",
      "995  Q60499303    Raghunathpur    Q668  ['Q6400153']       NaN        NaN   \n",
      "996  Q60499312        Ramnagar    Q668  ['Q6400153']       NaN        NaN   \n",
      "997  Q60499338      Shrirampur    Q668  ['Q6400153']       NaN        NaN   \n",
      "998  Q60499359    Jagannathpur    Q668  ['Q6400153']       NaN        NaN   \n",
      "999  Q60499364    Chhatrashali    Q668  ['Q6400153']       NaN        NaN   \n",
      "\n",
      "                                          english_desc parent_classes  \n",
      "0    human settlement in Burwan community developme...  ['Q56436498']  \n",
      "1                                                  NaN  ['Q56436498']  \n",
      "2    human settlement in Burwan community developme...  ['Q56436498']  \n",
      "3                                                  NaN  ['Q56436498']  \n",
      "4    human settlement in Burwan community developme...  ['Q56436498']  \n",
      "..                                                 ...            ...  \n",
      "995                                                NaN  ['Q56436498']  \n",
      "996                                                NaN  ['Q56436498']  \n",
      "997                                                NaN  ['Q56436498']  \n",
      "998                                                NaN  ['Q56436498']  \n",
      "999  human settlement in Khanakul I community devel...  ['Q56436498']  \n",
      "\n",
      "[1000 rows x 8 columns]\n"
     ]
    }
   ],
   "source": [
    "import pandas as pd\n",
    "\n",
    "# Specify the path to your CSV file\n",
    "csv_file_path = \"C:/Users/thale/Desktop/TP Test 2/allbucket1.csv\"\n",
    "\n",
    "# Try reading the CSV file with a different encoding\n",
    "data = pd.read_csv(csv_file_path, encoding='ISO-8859-1')\n",
    "\n",
    "# Display the first few rows of the dataframe\n",
    "print(data.head(1000))"
   ]
  },
  {
   "cell_type": "code",
   "execution_count": null,
   "id": "e6d71095-dc07-4123-814a-ed27ebdbe7eb",
   "metadata": {},
   "outputs": [],
   "source": []
  }
 ],
 "metadata": {
  "kernelspec": {
   "display_name": "Python 3 (ipykernel)",
   "language": "python",
   "name": "python3"
  },
  "language_info": {
   "codemirror_mode": {
    "name": "ipython",
    "version": 3
   },
   "file_extension": ".py",
   "mimetype": "text/x-python",
   "name": "python",
   "nbconvert_exporter": "python",
   "pygments_lexer": "ipython3",
   "version": "3.12.2"
  }
 },
 "nbformat": 4,
 "nbformat_minor": 5
}
